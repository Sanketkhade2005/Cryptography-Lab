{
 "cells": [
  {
   "cell_type": "code",
   "execution_count": 3,
   "id": "ecb0f7d2-7b6d-45c6-8264-72d05e572262",
   "metadata": {},
   "outputs": [
    {
     "name": "stdin",
     "output_type": "stream",
     "text": [
      "Enter the plaintext:  hello\n",
      "Enter addition shift (default 0):  2\n"
     ]
    },
    {
     "name": "stdout",
     "output_type": "stream",
     "text": [
      "Encrypted text: jgnnq\n"
     ]
    }
   ],
   "source": [
    "def caesar_cipher(text, shift):\n",
    "    result = ''\n",
    "    for char in text:\n",
    "        if char.isalpha():\n",
    "            start = ord('A') if char.isupper() else ord('a')\n",
    "            shifted = (ord(char) - start + shift) % 26\n",
    "            result += chr(start + shifted)\n",
    "        else:\n",
    "            result += char\n",
    "    return result\n",
    "\n",
    "if __name__ == \"__main__\":\n",
    "    plaintext = input(\"Enter the plaintext: \")\n",
    "    try:\n",
    "        shift = int(input(\"Enter addition shift (default 0): \") or 0)\n",
    "    except ValueError:\n",
    "        shift = 0\n",
    "    encrypted = caesar_cipher(plaintext, shift)\n",
    "    print(f\"Encrypted text: {encrypted}\")"
   ]
  },
  {
   "cell_type": "code",
   "execution_count": null,
   "id": "ae6713b1-93a9-4bc3-8ef7-5db8fb10c358",
   "metadata": {},
   "outputs": [],
   "source": []
  },
  {
   "cell_type": "code",
   "execution_count": null,
   "id": "3c33e8f0-f41d-44bd-af32-abc5c432dcfa",
   "metadata": {},
   "outputs": [],
   "source": []
  }
 ],
 "metadata": {
  "kernelspec": {
   "display_name": "Python 3 (ipykernel)",
   "language": "python",
   "name": "python3"
  },
  "language_info": {
   "codemirror_mode": {
    "name": "ipython",
    "version": 3
   },
   "file_extension": ".py",
   "mimetype": "text/x-python",
   "name": "python",
   "nbconvert_exporter": "python",
   "pygments_lexer": "ipython3",
   "version": "3.13.5"
  }
 },
 "nbformat": 4,
 "nbformat_minor": 5
}
