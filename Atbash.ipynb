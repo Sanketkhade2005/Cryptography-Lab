{
 "cells": [
  {
   "cell_type": "code",
   "execution_count": 1,
   "id": "08e5da92-696a-494e-992e-1ca9137685bc",
   "metadata": {},
   "outputs": [
    {
     "name": "stdout",
     "output_type": "stream",
     "text": [
      "ATBASH CIPHER\n"
     ]
    },
    {
     "name": "stdin",
     "output_type": "stream",
     "text": [
      "Enter the plain text:  sanket\n"
     ]
    },
    {
     "name": "stdout",
     "output_type": "stream",
     "text": [
      "Result: hzmpvg\n"
     ]
    }
   ],
   "source": [
    "print(\"ATBASH CIPHER\")\n",
    "def atbash_cipher(text):\n",
    "    result = ''\n",
    "    for char in text:\n",
    "        if char.isalpha():\n",
    "            if char.isupper():\n",
    "                result += chr(65 + (25 - (ord(char) - 65)))\n",
    "            else:\n",
    "                result += chr(97 + (25 - (ord(char) - 97)))\n",
    "        else:\n",
    "            result += char\n",
    "    return result\n",
    "\n",
    "# Take input from the user\n",
    "plain_text = input(\"Enter the plain text: \")\n",
    "cipher_text = atbash_cipher(plain_text)\n",
    "print(\"Result:\", cipher_text) "
   ]
  },
  {
   "cell_type": "code",
   "execution_count": null,
   "id": "aaff8c86-1eaf-44ce-a225-20dd89dd9c78",
   "metadata": {},
   "outputs": [],
   "source": []
  }
 ],
 "metadata": {
  "kernelspec": {
   "display_name": "Python 3 (ipykernel)",
   "language": "python",
   "name": "python3"
  },
  "language_info": {
   "codemirror_mode": {
    "name": "ipython",
    "version": 3
   },
   "file_extension": ".py",
   "mimetype": "text/x-python",
   "name": "python",
   "nbconvert_exporter": "python",
   "pygments_lexer": "ipython3",
   "version": "3.13.5"
  }
 },
 "nbformat": 4,
 "nbformat_minor": 5
}
