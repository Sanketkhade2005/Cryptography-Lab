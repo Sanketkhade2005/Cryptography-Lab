{
 "cells": [
  {
   "cell_type": "code",
   "execution_count": 1,
   "id": "542a8cee-01ba-4b8d-a85a-1eb0a18eefd4",
   "metadata": {},
   "outputs": [
    {
     "name": "stdout",
     "output_type": "stream",
     "text": [
      "MONOALPHABETIC CIPHER\n"
     ]
    },
    {
     "name": "stdin",
     "output_type": "stream",
     "text": [
      "Enter the plaintext to encrypt:  sanket\n"
     ]
    },
    {
     "name": "stdout",
     "output_type": "stream",
     "text": [
      "Encrypted ciphertext: lqfatz\n"
     ]
    }
   ],
   "source": [
    "print(\"MONOALPHABETIC CIPHER\")\n",
    "def MonoalphabeticEncrypt(plaintext, key_map):\n",
    "    ciphertext = \"\"\n",
    "    for ch in plaintext:\n",
    "        if ch.isupper():\n",
    "            ciphertext += key_map.get(ch, ch)\n",
    "        elif ch.islower():\n",
    "            upper_ch = ch.upper()\n",
    "            mapped = key_map.get(upper_ch, upper_ch)\n",
    "            ciphertext += mapped.lower()\n",
    "        else:\n",
    "            ciphertext += ch  \n",
    "    return ciphertext\n",
    "\n",
    "\n",
    "example_key_map = {\n",
    "    'A': 'Q', 'B': 'W', 'C': 'E', 'D': 'R', 'E': 'T', 'F': 'Y', 'G': 'U', 'H': 'I', 'I': 'O', 'J': 'P',\n",
    "    'K': 'A', 'L': 'S', 'M': 'D', 'N': 'F', 'O': 'G', 'P': 'H', 'Q': 'J', 'R': 'K', 'S': 'L', 'T': 'Z',\n",
    "    'U': 'X', 'V': 'C', 'W': 'V', 'X': 'B', 'Y': 'N', 'Z': 'M'\n",
    "}\n",
    "\n",
    "plaintext = input(\"Enter the plaintext to encrypt: \")\n",
    "ciphertext = MonoalphabeticEncrypt(plaintext, example_key_map)\n",
    "print(\"Encrypted ciphertext:\", ciphertext)"
   ]
  },
  {
   "cell_type": "code",
   "execution_count": null,
   "id": "740f5f92-da2b-446d-898e-74292c03ce73",
   "metadata": {},
   "outputs": [],
   "source": []
  }
 ],
 "metadata": {
  "kernelspec": {
   "display_name": "Python 3 (ipykernel)",
   "language": "python",
   "name": "python3"
  },
  "language_info": {
   "codemirror_mode": {
    "name": "ipython",
    "version": 3
   },
   "file_extension": ".py",
   "mimetype": "text/x-python",
   "name": "python",
   "nbconvert_exporter": "python",
   "pygments_lexer": "ipython3",
   "version": "3.13.5"
  }
 },
 "nbformat": 4,
 "nbformat_minor": 5
}
